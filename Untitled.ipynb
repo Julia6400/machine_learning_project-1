{
 "cells": [
  {
   "cell_type": "code",
   "execution_count": null,
   "id": "9fdbc0bc-1bdc-4c4f-8360-6938dcf5d9d6",
   "metadata": {},
   "outputs": [],
   "source": []
  }
 ],
 "metadata": {
  "kernelspec": {
   "display_name": "Python [conda env:cdv_data_prep] *",
   "language": "python",
   "name": "conda-env-cdv_data_prep-py"
  },
  "language_info": {
   "codemirror_mode": {
    "name": "ipython",
    "version": 3
   },
   "file_extension": ".py",
   "mimetype": "text/x-python",
   "name": "python",
   "nbconvert_exporter": "python",
   "pygments_lexer": "ipython3",
   "version": "3.8.5"
  }
 },
 "nbformat": 4,
 "nbformat_minor": 5
}
