{
 "cells": [
  {
   "cell_type": "code",
   "execution_count": 1,
   "id": "48b0ecad-9b89-46ab-83b3-73210a3abf08",
   "metadata": {},
   "outputs": [],
   "source": [
    "import joblib\n",
    "import numpy as np\n",
    "import pandas as pd\n",
    "import matplotlib.pyplot as plt\n",
    "\n",
    "from sklearn.pipeline import Pipeline\n",
    "from sklearn.model_selection import train_test_split\n",
    "from sklearn.model_selection import RepeatedStratifiedKFold\n",
    "from sklearn.model_selection import GridSearchCV\n",
    "\n",
    "from sklearn.svm import SVC, LinearSVC\n",
    "from sklearn.neighbors import KNeighborsClassifier\n",
    "from sklearn.ensemble import ExtraTreesClassifier\n",
    "\n",
    "from sklearn.metrics import confusion_matrix, ConfusionMatrixDisplay\n",
    "from sklearn.metrics import classification_report"
   ]
  },
  {
   "cell_type": "code",
   "execution_count": 2,
   "id": "dc19abf7-1ef1-4534-968e-014411bf3b82",
   "metadata": {},
   "outputs": [],
   "source": [
    "seed = np.random.seed(147)"
   ]
  },
  {
   "cell_type": "code",
   "execution_count": 3,
   "id": "da071555-e969-4a4e-b2c4-63bef4183f7d",
   "metadata": {},
   "outputs": [],
   "source": [
    "def load_X_npy() -> list:\n",
    "    \"\"\"Load npy to arrays\"\"\"\n",
    "    \n",
    "    train_X_array = np.load('project_data/processed_train_X.npy')\n",
    "    test_X_array = np.load('project_data/processed_test_X.npy')\n",
    "    train_y_array = np.load('project_data/processed_train_y.npy')\n",
    "    \n",
    "    \n",
    "    return [train_X_array, test_X_array, train_y_array]"
   ]
  },
  {
   "cell_type": "code",
   "execution_count": 4,
   "id": "569b52fb-682e-49f4-99a0-b415959c8462",
   "metadata": {},
   "outputs": [],
   "source": [
    "train_X_array, test_X_array, train_y_array = load_X_npy()"
   ]
  },
  {
   "cell_type": "code",
   "execution_count": 5,
   "id": "7a985bbb-589c-4d3f-b0ec-2315bb03a5ca",
   "metadata": {},
   "outputs": [],
   "source": [
    "X_train, X_test, y_train, y_test = train_test_split(train_X_array, train_y_array, test_size=0.25, random_state=seed)"
   ]
  },
  {
   "cell_type": "markdown",
   "id": "5930e89a-344b-4aaa-8136-29e052f6016f",
   "metadata": {},
   "source": [
    "# Validation"
   ]
  },
  {
   "cell_type": "code",
   "execution_count": 6,
   "id": "c3628eae-f80f-4cd1-9440-47d7079cbd13",
   "metadata": {},
   "outputs": [],
   "source": [
    "def pipe_skf_grid_model(X_1, X_2, y_1, y_2: np.array, save: bool = False) -> None:\n",
    "    \"\"\"Search for best model with repeated skf, gridsearchcv and pipeline. Save best model\"\"\"\n",
    "    \n",
    "    pipe = Pipeline([(\"classifier\", KNeighborsClassifier())])\n",
    "    \n",
    "    search_space = [\n",
    "        {\"classifier\": [LinearSVC(max_iter=10000, dual=False, random_state=seed)],\n",
    "        \"classifier__penalty\": [\"l1\", \"l2\"],\n",
    "        \"classifier__C\": np.logspace(1, 10, 25),\n",
    "        \"classifier__class_weight\": [None, \"balanced\"]\n",
    "        },\n",
    "\n",
    "        {\"classifier\": [KNeighborsClassifier()],\n",
    "        \"classifier__n_neighbors\": np.arange(2, 60, 2),\n",
    "        \"classifier__weights\": [\"uniform\", \"distance\"],\n",
    "        \"classifier__algorithm\": [\"auto\", \"ball_tree\", \"kd_tree\"],\n",
    "        \"classifier__leaf_size\": np.arange(2, 60, 2)\n",
    "        \n",
    "        },\n",
    "        \n",
    "        {\"classifier\": [ExtraTreesClassifier(random_state=seed)],\n",
    "        \"classifier__n_estimators\": np.arange(90, 135, 1),\n",
    "        \"classifier__criterion\": [\"gini\", \"entropy\"],\n",
    "        \"classifier__class_weight\": [None, \"balanced\", \"balanced_subsample\"],\n",
    "        \"classifier__min_samples_split\": np.arange(2, 5, 1)\n",
    "        }\n",
    "    ]\n",
    "    \n",
    "    rskf = RepeatedStratifiedKFold(n_splits=10, n_repeats=5, random_state=seed)\n",
    "    gridsearch = GridSearchCV(pipe, search_space, cv=rskf, scoring=\"f1_micro\", verbose=1, n_jobs=-1)\n",
    "    best_model = gridsearch.fit(X_1, y_1)\n",
    "    y_pred = best_model.predict(X_2)\n",
    "    \n",
    "    print(f\"\\nBest model params: \\n{best_model.best_params_}\")\n",
    "    # UserWarning: One or more of the test scores are non-finite\n",
    "    print(f\"\\nModel scorer: \\n{best_model.scorer_}\")\n",
    "    print(f\"\\nModel score: \\n{best_model.best_score_}\")\n",
    "    \n",
    "    if save:\n",
    "        filename = \"binary_clf_model.sav\"\n",
    "        joblib.dump(best_model, filename)\n",
    "        \n",
    "    return y_pred"
   ]
  },
  {
   "cell_type": "code",
   "execution_count": 7,
   "id": "e9c5cde0-5181-4917-8fe5-3f6c3f040e17",
   "metadata": {
    "tags": []
   },
   "outputs": [
    {
     "name": "stdout",
     "output_type": "stream",
     "text": [
      "Fitting 50 folds for each of 5956 candidates, totalling 297800 fits\n",
      "\n",
      "Best model params: \n",
      "{'classifier': ExtraTreesClassifier(min_samples_split=4, n_estimators=117), 'classifier__class_weight': None, 'classifier__criterion': 'gini', 'classifier__min_samples_split': 4, 'classifier__n_estimators': 117}\n",
      "\n",
      "Model scorer: \n",
      "make_scorer(f1_score, pos_label=None, average=micro)\n",
      "\n",
      "Model score: \n",
      "0.9146218194492854\n",
      "Wall time: 27min 58s\n"
     ]
    }
   ],
   "source": [
    "%time y_pred = pipe_skf_grid_model(X_train, X_test, y_train, y_test, save=True)"
   ]
  },
  {
   "cell_type": "code",
   "execution_count": 8,
   "id": "9a66a36e-0ade-4c13-aee9-2be92551ea76",
   "metadata": {},
   "outputs": [],
   "source": [
    "def clf_report_with_cm(y_true, y_predicted: np.array) -> None:\n",
    "    \"\"\"Show classification report. Build confusion matrix and plot it\"\"\"\n",
    "    \n",
    "    target_names = ['class -1', 'class 1']\n",
    "    print(classification_report(y_true, y_predicted, target_names=target_names))\n",
    "\n",
    "    cm = confusion_matrix(y_true, y_predicted)\n",
    "    disp = ConfusionMatrixDisplay(confusion_matrix=cm, display_labels=target_names)\n",
    "    \n",
    "    disp.plot() "
   ]
  },
  {
   "cell_type": "code",
   "execution_count": 9,
   "id": "4198f66c-7e2a-495a-8e15-f32b3f0b72dc",
   "metadata": {},
   "outputs": [],
   "source": [
    "plt.rcParams[\"figure.figsize\"] = (6,6)"
   ]
  },
  {
   "cell_type": "code",
   "execution_count": 10,
   "id": "75a2ec80-a209-4542-a781-dab6dfd8fa97",
   "metadata": {},
   "outputs": [
    {
     "name": "stdout",
     "output_type": "stream",
     "text": [
      "              precision    recall  f1-score   support\n",
      "\n",
      "    class -1       0.88      0.89      0.88       166\n",
      "     class 1       0.94      0.94      0.94       341\n",
      "\n",
      "    accuracy                           0.92       507\n",
      "   macro avg       0.91      0.91      0.91       507\n",
      "weighted avg       0.92      0.92      0.92       507\n",
      "\n"
     ]
    },
    {
     "data": {
      "image/png": "[encoded data removed]",
      "text/plain": [
       "<Figure size 432x432 with 2 Axes>"
      ]
     },
     "metadata": {
      "needs_background": "light"
     },
     "output_type": "display_data"
    }
   ],
   "source": [
    "clf_report_with_cm(y_test, y_pred)"
   ]
  },
  {
   "cell_type": "markdown",
   "id": "d3c6aadc-adc9-424e-b9af-d59bf0be015c",
   "metadata": {},
   "source": [
    "# Execution"
   ]
  },
  {
   "cell_type": "code",
   "execution_count": 11,
   "id": "f85e5275-4ae5-4c05-aa2d-1377dec27d74",
   "metadata": {},
   "outputs": [],
   "source": [
    "def load_predict_model(to_pred):\n",
    "    \"\"\"Load the model from disk and predict\"\"\"\n",
    "    \n",
    "    filename = \"binary_clf_model.sav\"\n",
    "    loaded_model = joblib.load(filename)\n",
    "\n",
    "    predicted = loaded_model.predict(to_pred)\n",
    "    \n",
    "    return predicted"
   ]
  },
  {
   "cell_type": "code",
   "execution_count": 12,
   "id": "4791ae2b-8e6e-462e-b181-e380675774a4",
   "metadata": {},
   "outputs": [],
   "source": [
    "test_y = load_predict_model(test_X_array)"
   ]
  },
  {
   "cell_type": "code",
   "execution_count": 15,
   "id": "aa60af0b-5f0d-4220-956a-7681df1d9a5b",
   "metadata": {},
   "outputs": [],
   "source": [
    "test_y_df = pd.DataFrame(test_y)\n",
    "test_y_df.to_csv(\"project_data/test_labels.csv\")"
   ]
  },
  {
   "cell_type": "code",
   "execution_count": 16,
   "id": "36c3cdf9-7bb3-4d63-be68-d81f7d780a7f",
   "metadata": {},
   "outputs": [
    {
     "data": {
      "text/html": [
       "<div>\n",
       "<style scoped>\n",
       "    .dataframe tbody tr th:only-of-type {\n",
       "        vertical-align: middle;\n",
       "    }\n",
       "\n",
       "    .dataframe tbody tr th {\n",
       "        vertical-align: top;\n",
       "    }\n",
       "\n",
       "    .dataframe thead th {\n",
       "        text-align: right;\n",
       "    }\n",
       "</style>\n",
       "<table border=\"1\" class=\"dataframe\">\n",
       "  <thead>\n",
       "    <tr style=\"text-align: right;\">\n",
       "      <th></th>\n",
       "      <th>0</th>\n",
       "    </tr>\n",
       "  </thead>\n",
       "  <tbody>\n",
       "    <tr>\n",
       "      <th>0</th>\n",
       "      <td>1</td>\n",
       "    </tr>\n",
       "    <tr>\n",
       "      <th>1</th>\n",
       "      <td>1</td>\n",
       "    </tr>\n",
       "    <tr>\n",
       "      <th>2</th>\n",
       "      <td>1</td>\n",
       "    </tr>\n",
       "    <tr>\n",
       "      <th>3</th>\n",
       "      <td>1</td>\n",
       "    </tr>\n",
       "    <tr>\n",
       "      <th>4</th>\n",
       "      <td>1</td>\n",
       "    </tr>\n",
       "    <tr>\n",
       "      <th>...</th>\n",
       "      <td>...</td>\n",
       "    </tr>\n",
       "    <tr>\n",
       "      <th>3745</th>\n",
       "      <td>-1</td>\n",
       "    </tr>\n",
       "    <tr>\n",
       "      <th>3746</th>\n",
       "      <td>1</td>\n",
       "    </tr>\n",
       "    <tr>\n",
       "      <th>3747</th>\n",
       "      <td>1</td>\n",
       "    </tr>\n",
       "    <tr>\n",
       "      <th>3748</th>\n",
       "      <td>1</td>\n",
       "    </tr>\n",
       "    <tr>\n",
       "      <th>3749</th>\n",
       "      <td>1</td>\n",
       "    </tr>\n",
       "  </tbody>\n",
       "</table>\n",
       "<p>3750 rows × 1 columns</p>\n",
       "</div>"
      ],
      "text/plain": [
       "      0\n",
       "0     1\n",
       "1     1\n",
       "2     1\n",
       "3     1\n",
       "4     1\n",
       "...  ..\n",
       "3745 -1\n",
       "3746  1\n",
       "3747  1\n",
       "3748  1\n",
       "3749  1\n",
       "\n",
       "[3750 rows x 1 columns]"
      ]
     },
     "execution_count": 16,
     "metadata": {},
     "output_type": "execute_result"
    }
   ],
   "source": [
    "test_y_df"
   ]
  }
 ],
 "metadata": {
  "kernelspec": {
   "display_name": "Python [conda env:cdv_data_prep] *",
   "language": "python",
   "name": "conda-env-cdv_data_prep-py"
  },
  "language_info": {
   "codemirror_mode": {
    "name": "ipython",
    "version": 3
   },
   "file_extension": ".py",
   "mimetype": "text/x-python",
   "name": "python",
   "nbconvert_exporter": "python",
   "pygments_lexer": "ipython3",
   "version": "3.8.5"
  }
 },
 "nbformat": 4,
 "nbformat_minor": 5
}
