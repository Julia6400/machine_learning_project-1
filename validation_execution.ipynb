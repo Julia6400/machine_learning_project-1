{
 "cells": [
  {
   "cell_type": "code",
   "execution_count": 91,
   "id": "48b0ecad-9b89-46ab-83b3-73210a3abf08",
   "metadata": {},
   "outputs": [],
   "source": [
    "import joblib\n",
    "import numpy as np\n",
    "import pandas as pd\n",
    "import matplotlib.pyplot as plt\n",
    "\n",
    "from sklearn.pipeline import Pipeline\n",
    "from sklearn.model_selection import train_test_split\n",
    "from sklearn.model_selection import RepeatedStratifiedKFold\n",
    "from sklearn.model_selection import GridSearchCV\n",
    "\n",
    "from sklearn.svm import SVC, LinearSVC\n",
    "from sklearn.neighbors import KNeighborsClassifier\n",
    "from sklearn.ensemble import ExtraTreesClassifier\n",
    "\n",
    "from sklearn.metrics import confusion_matrix, ConfusionMatrixDisplay\n",
    "from sklearn.metrics import classification_report"
   ]
  },
  {
   "cell_type": "code",
   "execution_count": 92,
   "id": "dc19abf7-1ef1-4534-968e-014411bf3b82",
   "metadata": {},
   "outputs": [],
   "source": [
    "seed = np.random.seed(147)"
   ]
  },
  {
   "cell_type": "code",
   "execution_count": 93,
   "id": "da071555-e969-4a4e-b2c4-63bef4183f7d",
   "metadata": {},
   "outputs": [],
   "source": [
    "def load_X_npy() -> list:\n",
    "    \"\"\"Form a complex number.\"\"\"\n",
    "    \n",
    "    train_X_array = np.load('project_data/processed_train_X.npy')\n",
    "    train_y_array = np.load('project_data/processed_train_y.npy')\n",
    "    test_X_array = np.load('project_data/processed_test_X.npy')\n",
    "    \n",
    "    return [train_X_array, train_y_array, test_X_array]"
   ]
  },
  {
   "cell_type": "code",
   "execution_count": 94,
   "id": "569b52fb-682e-49f4-99a0-b415959c8462",
   "metadata": {},
   "outputs": [],
   "source": [
    "train_X_array, train_y_array, test_X_array = load_X_npy()"
   ]
  },
  {
   "cell_type": "code",
   "execution_count": 95,
   "id": "7a985bbb-589c-4d3f-b0ec-2315bb03a5ca",
   "metadata": {},
   "outputs": [],
   "source": [
    "X_train, X_test, y_train, y_test = train_test_split(train_X_array, train_y_array, test_size=0.25, random_state=seed)"
   ]
  },
  {
   "cell_type": "markdown",
   "id": "5930e89a-344b-4aaa-8136-29e052f6016f",
   "metadata": {},
   "source": [
    "# Validation"
   ]
  },
  {
   "cell_type": "code",
   "execution_count": 96,
   "id": "c3628eae-f80f-4cd1-9440-47d7079cbd13",
   "metadata": {},
   "outputs": [],
   "source": [
    "def pipe_skf_grid_model(X_train, X_test, y_train, y_test: np.array, save: bool = False) -> None:\n",
    "    \"\"\"Form a complex number.\n",
    "\n",
    "    Keyword arguments:\n",
    "    real -- the real part (default 0.0)\n",
    "    imag -- the imaginary part (default 0.0)\n",
    "    \"\"\"\n",
    "    \n",
    "    pipe = Pipeline([(\"classifier\", SVC())])\n",
    "    \n",
    "    # base line model picking\n",
    "    search_space = [\n",
    "        {\"classifier\": [LinearSVC(max_iter=100000, random_state=seed)],\n",
    "        \"classifier__penalty\": [\"l1\", \"l2\"],\n",
    "        \"classifier__C\": np.logspace(1, 10, 50),\n",
    "        \"classifier__class_weight\": [None, \"balanced\"]\n",
    "        },\n",
    "\n",
    "        {\"classifier\": [KNeighborsClassifier()],\n",
    "        \"classifier__n_neighbors\": np.arange(2, 60, 2),\n",
    "        \"classifier__weights\": [\"uniform\", \"distance\"],\n",
    "        \"classifier__leaf_size\": np.arange(2, 60, 2)\n",
    "        },\n",
    "        \n",
    "        {\"classifier\": [ExtraTreesClassifier(random_state=seed)],\n",
    "        \"classifier__n_estimators\": np.arange(75, 150, 1),\n",
    "        \"classifier__criterion\": [\"gini\", \"entropy\"],\n",
    "        \"classifier__class_weight\": [None, \"balanced\", \"balanced_subsample\"],\n",
    "        \"classifier__min_samples_split\": np.arange(1, 5, 1)\n",
    "        }\n",
    "    ]\n",
    "    \n",
    "    rskf = RepeatedStratifiedKFold(n_splits=10, n_repeats=3, random_state=seed)\n",
    "    gridsearch = GridSearchCV(pipe, search_space, cv=rskf, scoring=\"f1_micro\", verbose=1, n_jobs=-1)\n",
    "    best_model = gridsearch.fit(X_train, y_train)\n",
    "    y_pred = best_model.predict(X_test)\n",
    "    \n",
    "    print(f\"\\nBest model params: \\n{best_model.best_params_}\")\n",
    "    # UserWarning: One or more of the test scores are non-finite\n",
    "    print(f\"\\nModel scorer: \\n{best_model.scorer_}\")\n",
    "    print(f\"\\nModel score: \\n{best_model.best_score_}\")\n",
    "    \n",
    "    if save:\n",
    "        filename = \"binary_clf_model.sav\"\n",
    "        joblib.dump(best_model, filename)\n",
    "        \n",
    "    return y_pred"
   ]
  },
  {
   "cell_type": "code",
   "execution_count": null,
   "id": "2257e2ec-1bc8-4369-aa82-893d0fdd8229",
   "metadata": {},
   "outputs": [],
   "source": [
    "# save=True"
   ]
  },
  {
   "cell_type": "code",
   "execution_count": 97,
   "id": "e9c5cde0-5181-4917-8fe5-3f6c3f040e17",
   "metadata": {
    "tags": []
   },
   "outputs": [
    {
     "name": "stdout",
     "output_type": "stream",
     "text": [
      "Fitting 30 folds for each of 3008 candidates, totalling 90240 fits\n"
     ]
    },
    {
     "name": "stderr",
     "output_type": "stream",
     "text": [
      "C:\\Users\\DJaskulski\\miniconda3\\envs\\cdv_data_prep\\lib\\site-packages\\sklearn\\model_selection\\_search.py:922: UserWarning: One or more of the test scores are non-finite: [       nan 0.86955095        nan ... 0.90819972 0.90886197 0.90731527]\n",
      "  warnings.warn(\n"
     ]
    },
    {
     "name": "stdout",
     "output_type": "stream",
     "text": [
      "\n",
      "Best model params: \n",
      "{'classifier': ExtraTreesClassifier(criterion='entropy', n_estimators=125), 'classifier__class_weight': None, 'classifier__criterion': 'entropy', 'classifier__min_samples_split': 2, 'classifier__n_estimators': 125}\n",
      "\n",
      "Model scorer: \n",
      "make_scorer(f1_score, pos_label=None, average=micro)\n",
      "\n",
      "Model score: \n",
      "0.9145709887301036\n",
      "Wall time: 34min 9s\n"
     ]
    }
   ],
   "source": [
    "%time y_pred = pipe_skf_grid_model(X_train, X_test, y_train, y_test)"
   ]
  },
  {
   "cell_type": "code",
   "execution_count": 98,
   "id": "9a66a36e-0ade-4c13-aee9-2be92551ea76",
   "metadata": {},
   "outputs": [],
   "source": [
    "def clf_report_with_cm(y_true, y_pred: np.array) -> None:\n",
    "    \"\"\"Form a complex number.\n",
    "\n",
    "    Keyword arguments:\n",
    "    real -- the real part (default 0.0)\n",
    "    imag -- the imaginary part (default 0.0)\n",
    "    \"\"\"\n",
    "    \n",
    "    # classification report\n",
    "    target_names = ['class -1', 'class 1']\n",
    "    print(classification_report(y_true, y_pred, target_names=target_names))\n",
    "\n",
    "    # confusion matrix with plot\n",
    "    cm = confusion_matrix(y_true, y_pred)\n",
    "    disp = ConfusionMatrixDisplay(confusion_matrix=cm, display_labels=target_names)\n",
    "    \n",
    "    disp.plot() "
   ]
  },
  {
   "cell_type": "code",
   "execution_count": 99,
   "id": "4198f66c-7e2a-495a-8e15-f32b3f0b72dc",
   "metadata": {},
   "outputs": [],
   "source": [
    "plt.rcParams[\"figure.figsize\"] = (6,6)"
   ]
  },
  {
   "cell_type": "code",
   "execution_count": 100,
   "id": "75a2ec80-a209-4542-a781-dab6dfd8fa97",
   "metadata": {},
   "outputs": [
    {
     "name": "stdout",
     "output_type": "stream",
     "text": [
      "              precision    recall  f1-score   support\n",
      "\n",
      "    class -1       0.90      0.88      0.89       166\n",
      "     class 1       0.94      0.95      0.95       341\n",
      "\n",
      "    accuracy                           0.93       507\n",
      "   macro avg       0.92      0.91      0.92       507\n",
      "weighted avg       0.93      0.93      0.93       507\n",
      "\n"
     ]
    },
    {
     "data": {
      "image/png": "[encoded data removed]",
      "text/plain": [
       "<Figure size 432x432 with 2 Axes>"
      ]
     },
     "metadata": {
      "needs_background": "light"
     },
     "output_type": "display_data"
    }
   ],
   "source": [
    "clf_report_with_cm(y_test, y_pred)"
   ]
  },
  {
   "cell_type": "markdown",
   "id": "d3c6aadc-adc9-424e-b9af-d59bf0be015c",
   "metadata": {},
   "source": [
    "# Execution"
   ]
  },
  {
   "cell_type": "code",
   "execution_count": 3,
   "id": "f85e5275-4ae5-4c05-aa2d-1377dec27d74",
   "metadata": {},
   "outputs": [],
   "source": [
    "# # load the model from disk\n",
    "# filename = \"binary_clf_model.sav\"\n",
    "# loaded_model = joblib.load(filename)\n",
    "\n",
    "# # result = loaded_model.score(X_test, Y_test)\n",
    "# # print(result)\n",
    "\n",
    "# # predicting\n",
    "# predicted = loaded_model.predict(test_X_array)"
   ]
  },
  {
   "cell_type": "code",
   "execution_count": 4,
   "id": "aa60af0b-5f0d-4220-956a-7681df1d9a5b",
   "metadata": {},
   "outputs": [],
   "source": [
    "# pd.DataFrame(predicted) "
   ]
  },
  {
   "cell_type": "code",
   "execution_count": null,
   "id": "17a7f82a-5064-406e-9d7e-a1f87de3d943",
   "metadata": {},
   "outputs": [],
   "source": [
    "# predicted.to_csv(\"project_data/test_labels.csv\")"
   ]
  }
 ],
 "metadata": {
  "kernelspec": {
   "display_name": "Python [conda env:cdv_data_prep] *",
   "language": "python",
   "name": "conda-env-cdv_data_prep-py"
  },
  "language_info": {
   "codemirror_mode": {
    "name": "ipython",
    "version": 3
   },
   "file_extension": ".py",
   "mimetype": "text/x-python",
   "name": "python",
   "nbconvert_exporter": "python",
   "pygments_lexer": "ipython3",
   "version": "3.8.5"
  }
 },
 "nbformat": 4,
 "nbformat_minor": 5
}
