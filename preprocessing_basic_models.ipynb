{
 "cells": [
  {
   "cell_type": "markdown",
   "id": "e64a6a80-90e1-4b02-8226-4e5b3db54865",
   "metadata": {},
   "source": [
    "# Steps"
   ]
  },
  {
   "cell_type": "code",
   "execution_count": 63,
   "id": "4fb26208-6956-4268-9f86-c7f8992fd4bd",
   "metadata": {},
   "outputs": [],
   "source": [
    "# Define the problem\n",
    "    # Binary classification\n",
    "\n",
    "# Data Access\n",
    "    # (.info(), describe(), .shape, .head(), .tail(), isnull(), .value_counts())\n",
    "# Exploratory Data Analysis (EDA)\n",
    "    # univariate analysis, bivariate analysis, (.distplot(), .countplot(), .boxplot(), .scatterplot(), .pairplot()), \n",
    "    # distribution (.histplot())\n",
    "    # corellation (.heatmap())\n",
    "\n",
    "# Data Preprocessing\n",
    "    # from sklearn.model_selection import train_test_split\n",
    "    # from sklearn.preprocessing import StandardScaler\n",
    "    # data types, data mixture, shape, outliers, missing values, noisy data, skewness and kurtosis\n",
    "# Model Building\n",
    "    # from sklearn.linear_model import LogisticRegression, SGDClassifier\n",
    "    # from sklearn.svm import LinearSVC\n",
    "    # from sklearn.ensemble import RandomForestClassifier, AdaBoostClassifier\n",
    "    # from sklearn.naive_bayes import GaussianNB\n",
    "    \n",
    "# Model Validation\n",
    "    # from sklearn.pipeline import Pipeline\n",
    "    # from sklearn.model_selection import KFold, cross_val_score\n",
    "    # from sklearn.model_selection import StratifiedKFold, KFold\n",
    "    # from sklearn.model_selection import GridSearchCV\n",
    "# Model Execution\n",
    "    # Confusion Matrix: A breakdown of predictions into a table showing correct predictions (the diagonal) and the types of incorrect predictions made (what classes incorrect predictions were assigned).\n",
    "    # Precision: A measure of a classifiers exactness.\n",
    "    # Recall: A measure of a classifiers completeness\n",
    "    # F1 Score (or F-score): A weighted average of precision and recall.\n",
    "# Deployment"
   ]
  },
  {
   "cell_type": "code",
   "execution_count": 64,
   "id": "7d7e344e-84fc-43ea-984c-a822efa1957b",
   "metadata": {},
   "outputs": [],
   "source": [
    "import numpy as np\n",
    "import pandas as pd"
   ]
  },
  {
   "cell_type": "code",
   "execution_count": 65,
   "id": "232b10f7-a665-430f-b7e1-3d8ed06b08a9",
   "metadata": {},
   "outputs": [],
   "source": [
    "def data_load() -> list:\n",
    "    \"\"\" \"\"\"\n",
    "    \n",
    "    train_data = pd.read_csv(\"project_data/train_data.csv\", header=None)\n",
    "    test_data = pd.read_csv(\"project_data/test_data.csv\", header=None)\n",
    "    train_labels = pd.read_csv(\"project_data/train_labels.csv\", header=None)\n",
    "    \n",
    "    return [train_data, test_data, train_labels]"
   ]
  },
  {
   "cell_type": "code",
   "execution_count": 66,
   "id": "482e9252-d72b-4f0c-b4a2-127097ada6a7",
   "metadata": {},
   "outputs": [],
   "source": [
    "train_data, test_data, train_labels = data_load()"
   ]
  },
  {
   "cell_type": "code",
   "execution_count": 67,
   "id": "7a326732-0a82-4c02-9c63-daf23a9af66c",
   "metadata": {},
   "outputs": [],
   "source": [
    "data = [train_data, test_data, train_labels]\n",
    "names = [\"train_data\", \"test_data\", \"train_labels\"]"
   ]
  },
  {
   "cell_type": "markdown",
   "id": "214f7dd5-677f-4890-a175-09ce3726b641",
   "metadata": {},
   "source": [
    "# Preprocessing"
   ]
  },
  {
   "cell_type": "markdown",
   "id": "16a10599-5757-4028-beaa-4761cb2aefe9",
   "metadata": {},
   "source": [
    "### problem: multidimensional dataset, \n",
    "### solution: dimensional reduction (Correlation Heatmap, Univariate Selection/ PCA - Principal Component Analysis/ RFE - Recursive Feature Elimination)"
   ]
  },
  {
   "cell_type": "code",
   "execution_count": 68,
   "id": "9a3adfd7-41d0-4958-b6f9-4b2a5ed50474",
   "metadata": {},
   "outputs": [],
   "source": [
    "import seaborn as sns\n",
    "import matplotlib.pyplot as plt\n",
    "\n",
    "from sklearn.model_selection import train_test_split\n",
    "from sklearn.preprocessing import StandardScaler\n",
    "from sklearn.feature_selection import SelectKBest, f_classif, RFE\n",
    "from sklearn.decomposition import PCA\n",
    "from sklearn.svm import SVC"
   ]
  },
  {
   "cell_type": "code",
   "execution_count": 69,
   "id": "f9fee42d-7cac-443c-b796-c2fb9db60f19",
   "metadata": {},
   "outputs": [],
   "source": [
    "# train test splitting\n",
    "X_train, X_test, y_train, y_test = train_test_split(train_data, train_labels, test_size=0.25, random_state=42)"
   ]
  },
  {
   "cell_type": "code",
   "execution_count": 70,
   "id": "560d8e5e-5bed-4365-ade9-5cb1e30bd367",
   "metadata": {},
   "outputs": [],
   "source": [
    "# standar scaling\n",
    "scaler = StandardScaler().fit(X_train)\n",
    "X_train_std = scaler.transform(X_train)\n",
    "X_test_std = scaler.transform(X_test)"
   ]
  },
  {
   "cell_type": "code",
   "execution_count": 71,
   "id": "ca410a44-fa29-4662-8f22-2ed1414a3038",
   "metadata": {},
   "outputs": [
    {
     "name": "stdout",
     "output_type": "stream",
     "text": [
      "Shape before: (2812, 10000)\n",
      "Shape after: (2812, 3207)\n"
     ]
    }
   ],
   "source": [
    "# Univariate Selection\n",
    "array_x = X_train_std\n",
    "array_y = y_train.values.ravel()\n",
    "print(f\"Shape before: {array_x.shape}\")\n",
    "# feature extraction - 3333/10000=~1/3\n",
    "test = SelectKBest(score_func=f_classif, k=3207)\n",
    "fit = test.fit(array_x, array_y)\n",
    "features = fit.transform(array_x)\n",
    "# summarize selected features\n",
    "print(f\"Shape after: {features.shape}\")"
   ]
  },
  {
   "cell_type": "code",
   "execution_count": null,
   "id": "fab1fbd8-0c09-439e-886e-b77e93496a8c",
   "metadata": {},
   "outputs": [],
   "source": [
    "# evaluating number of features\n",
    "scores = fit.scores_\n",
    "score_df = pd.DataFrame(scores, columns=[\"Scores\"])\n",
    "score_df.index.name= \"column n.\"\n",
    "print(f\"min score: {min(score_df.Scores)}, max score: {max(score_df.Scores)}, mean score: {np.mean(score_df.Scores)}\")"
   ]
  },
  {
   "cell_type": "code",
   "execution_count": null,
   "id": "5e948d93-f83d-403d-a728-91f3fd8e41fb",
   "metadata": {},
   "outputs": [],
   "source": [
    "score_df.drop(score_df[score_df.Scores < 1].index, inplace=True)\n",
    "score_df"
   ]
  },
  {
   "cell_type": "code",
   "execution_count": 73,
   "id": "93390ed1-5cf2-4089-94d1-001d339eb9e5",
   "metadata": {},
   "outputs": [],
   "source": [
    "univariate_X_train = features"
   ]
  },
  {
   "cell_type": "code",
   "execution_count": 74,
   "id": "57dca15b-8402-42de-a352-4c3c52efa0eb",
   "metadata": {},
   "outputs": [],
   "source": []
  },
  {
   "cell_type": "code",
   "execution_count": 75,
   "id": "f8ed3ec9-8552-4550-b2f6-ecd8ec515f1f",
   "metadata": {
    "tags": []
   },
   "outputs": [
    {
     "name": "stdout",
     "output_type": "stream",
     "text": [
      "Explained Variance: [0.00140602 0.0013164  0.0013112  0.00129819 0.00129364 0.0012862\n",
      " 0.00128408 0.00128002 0.00127328 0.00126905 0.00126695 0.00126008\n",
      " 0.00125425 0.00125231 0.00125075 0.00124692 0.00124357 0.00123958\n",
      " 0.00123723 0.00123669 0.00123181 0.00122878 0.00122691 0.00121946\n",
      " 0.00121876 0.00121541 0.00121492 0.00120885 0.00120668 0.00120563\n",
      " 0.00120146 0.00120079 0.0011957  0.00119415 0.00118987 0.00118797\n",
      " 0.00118575 0.00118223 0.00118028 0.00117904 0.00117713 0.00117214\n",
      " 0.00117076 0.00116835 0.0011671  0.001166   0.0011607  0.00115521\n",
      " 0.0011543  0.00115136 0.00114933 0.00114796 0.00114218 0.00114069\n",
      " 0.00113948 0.00113817 0.00113549 0.00113366 0.00113134 0.00112718\n",
      " 0.00112137 0.00112057 0.00111856 0.00111753 0.0011155  0.00111251\n",
      " 0.0011084  0.00110428 0.00110267 0.00110031 0.00109903 0.00109702\n",
      " 0.00109572 0.00108924 0.00108836 0.00108735 0.00108479 0.00108112\n",
      " 0.00107898 0.00107739 0.00107504 0.00107115 0.00106999 0.00106815\n",
      " 0.00106333 0.0010594  0.00105818 0.00105442 0.00104988 0.00104687\n",
      " 0.00104488 0.00104357 0.00103911 0.00103457 0.00103069 0.00103057\n",
      " 0.00102789 0.00102533 0.00102286 0.00101779]\n",
      "[[ 0.0021178   0.00863402 -0.01176699 ... -0.0228481  -0.01930037\n",
      "   0.02851185]\n",
      " [-0.00604903  0.01768992 -0.02807512 ...  0.00686805  0.00232127\n",
      "  -0.01931041]\n",
      " [-0.013858    0.00300498 -0.05271628 ... -0.00640519  0.0075575\n",
      "  -0.0106389 ]\n",
      " ...\n",
      " [ 0.00768654 -0.01115165 -0.01255677 ...  0.01393086  0.01423628\n",
      "  -0.00399752]\n",
      " [-0.0139499  -0.02066903 -0.00181923 ... -0.03293632 -0.00069423\n",
      "  -0.02177204]\n",
      " [ 0.02055187 -0.03929    -0.02035186 ...  0.01166365 -0.01127734\n",
      "  -0.0268237 ]]\n"
     ]
    }
   ],
   "source": [
    "# Principal Component Analysis\n",
    "array_x = univariate_X_train\n",
    "array_y = y_train.values.ravel()\n",
    "# feature extraction\n",
    "pca = PCA(n_components=100)\n",
    "fit = pca.fit(array_x)\n",
    "features = fit.transform(array_x)\n",
    "# summarize components\n",
    "print(f\"Explained Variance: \\n{fit.explained_variance_ratio_}\\n\")\n",
    "print(f\"Components: \\n{fit.components_}\\n\")"
   ]
  },
  {
   "cell_type": "code",
   "execution_count": 76,
   "id": "489da542-8972-4b48-b7d2-e5b8efed2ee3",
   "metadata": {},
   "outputs": [
    {
     "data": {
      "text/plain": [
       "(2812, 100)"
      ]
     },
     "execution_count": 76,
     "metadata": {},
     "output_type": "execute_result"
    }
   ],
   "source": [
    "univariate_pca_X_train = features\n",
    "univariate_pca_X_train.shape"
   ]
  },
  {
   "cell_type": "code",
   "execution_count": 78,
   "id": "0810cbef-fe97-43f6-832b-fe8692f3c247",
   "metadata": {},
   "outputs": [
    {
     "name": "stdout",
     "output_type": "stream",
     "text": [
      "Num Features: 10\n",
      "Selected Features: [ True  True False False False False False False False False False False\n",
      " False False False False False  True False False False False False False\n",
      " False False False False False False False False False False False False\n",
      " False False False False False False False False False False False False\n",
      " False False False False False  True False False False False False False\n",
      " False False False False  True False False False False False  True False\n",
      " False False False False False False  True False False False False False\n",
      " False  True False False False False False False  True False False  True\n",
      " False False False False]\n",
      "Feature Ranking: [ 1  1 91 80 50 28  3  4 72 48  5 87 74 58 37 71 42  1 25 20 86 18 19 45\n",
      " 13 43 55 17 52 21 69 39 44 33 60 51  9 14 76 46 10  6 78 16 67 84 88 59\n",
      " 79 29 12 11 32  1  7 61 54 66 31 77 62  2 24 68  1 63 47 75 53 89  1  8\n",
      " 85 81 57 15 23 38  1 30 22 82 40 70 64  1 36 90 73 83 34 56  1 41 65  1\n",
      " 49 35 27 26]\n"
     ]
    }
   ],
   "source": [
    "# Recursive Feature Elimination\n",
    "array_x = univariate_pca_X_train\n",
    "array_y = y_train.values.ravel()\n",
    "# feature extraction\n",
    "svc = SVC(kernel=\"linear\", C=1)\n",
    "rfe = RFE(estimator=svc, n_features_to_select=10)\n",
    "fit = rfe.fit(array_x, array_y)\n",
    "features = fit.transform(array_x)\n",
    "# summarize components\n",
    "print(\"Num Features: %d\" % fit.n_features_)\n",
    "print(\"Selected Features: %s\" % fit.support_)\n",
    "print(\"Feature Ranking: %s\" % fit.ranking_)"
   ]
  },
  {
   "cell_type": "code",
   "execution_count": 79,
   "id": "ffcfe654-7368-4000-ae9b-315cf66e527c",
   "metadata": {},
   "outputs": [
    {
     "data": {
      "text/plain": [
       "(2812, 10)"
      ]
     },
     "execution_count": 79,
     "metadata": {},
     "output_type": "execute_result"
    }
   ],
   "source": [
    "univariate_pca_rfe_X_train = features\n",
    "univariate_pca_rfe_X_train.shape"
   ]
  },
  {
   "cell_type": "code",
   "execution_count": null,
   "id": "ee4033a6-b35a-4084-a7d4-610c9a2918a6",
   "metadata": {},
   "outputs": [],
   "source": []
  },
  {
   "cell_type": "code",
   "execution_count": null,
   "id": "3010a995-f455-412f-8844-58433d002157",
   "metadata": {},
   "outputs": [],
   "source": []
  },
  {
   "cell_type": "code",
   "execution_count": null,
   "id": "6ff69ddf-7949-4389-8451-aab1d5924f28",
   "metadata": {},
   "outputs": [],
   "source": []
  },
  {
   "cell_type": "code",
   "execution_count": null,
   "id": "6e9b6717-19a5-4e72-b1ac-d9349d97618a",
   "metadata": {},
   "outputs": [
    {
     "name": "stderr",
     "output_type": "stream",
     "text": [
      "C:\\Users\\DJaskulski\\miniconda3\\envs\\cdv_data_prep\\lib\\site-packages\\sklearn\\utils\\validation.py:63: DataConversionWarning: A column-vector y was passed when a 1d array was expected. Please change the shape of y to (n_samples, ), for example using ravel().\n",
      "  return f(*args, **kwargs)\n"
     ]
    }
   ],
   "source": [
    "from sklearn.model_selection import GridSearchCV\n",
    "from sklearn.svm import SVC\n",
    "from sklearn.decomposition import KernelPCA\n",
    "from sklearn.metrics import accuracy_score\n",
    "from sklearn.metrics import classification_report\n",
    "\n",
    "kpca = KernelPCA()\n",
    "svc_model = SVC()\n",
    "\n",
    "pipe = Pipeline(steps=[('kpca', kpca), ('svc_model', svc_model)])\n",
    "pipe.fit(X_train_std, y_train)\n",
    "\n",
    "param_dict = {\"kpca__gamma\": np.linspace(0.03, 0.05, 5),\n",
    "              \"kpca__kernel\": ['linear', 'poly', 'rbf'],\n",
    "              \"svc_model__C\": [0.1, 1, 10, 100, 1000],\n",
    "              \"svc_model__gamma\": [1, 0.1, 0.01, 0.001, 0.0001]}\n",
    "\n",
    "\n",
    "grid = GridSearchCV(pipe, param_dict, verbose=0)\n",
    "grid.fit(X_train_std, y_train)"
   ]
  },
  {
   "cell_type": "code",
   "execution_count": null,
   "id": "c361a576-a369-46bf-9429-a19cc4541d95",
   "metadata": {},
   "outputs": [],
   "source": [
    "grid.best_params_"
   ]
  },
  {
   "cell_type": "code",
   "execution_count": null,
   "id": "35f71827-8abb-49fc-93f3-2aca5ff838eb",
   "metadata": {},
   "outputs": [],
   "source": [
    "grid.best_score_"
   ]
  },
  {
   "cell_type": "code",
   "execution_count": null,
   "id": "db08ae0a-ab88-4017-9665-1cf49daf9bae",
   "metadata": {},
   "outputs": [],
   "source": []
  },
  {
   "cell_type": "code",
   "execution_count": null,
   "id": "feed4d58-e6a6-4eb3-ab7c-69eaafb56125",
   "metadata": {},
   "outputs": [],
   "source": []
  },
  {
   "cell_type": "code",
   "execution_count": null,
   "id": "6b4999e8-a2ea-4b8d-9090-836df01cd9bd",
   "metadata": {},
   "outputs": [],
   "source": []
  },
  {
   "cell_type": "code",
   "execution_count": null,
   "id": "741ecdba-90d8-4405-a5bc-905953c78f3b",
   "metadata": {},
   "outputs": [],
   "source": [
    "# define pipeline\n",
    "pipe = Pipeline([\n",
    "    (\"std\", StandardScaler()),\n",
    "    (\"pca\", PCA(n_components=0.95, random_state=seed)),\n",
    "    (\"tsne\", TSNE(n_components=2, random_state=seed)),\n",
    "])"
   ]
  },
  {
   "cell_type": "code",
   "execution_count": null,
   "id": "a79b1466-bdcc-4947-8ea4-db9dbbfba7ef",
   "metadata": {},
   "outputs": [],
   "source": [
    "# fit transform method\n",
    "piped = pipe.fit_transform(test_data_02)"
   ]
  },
  {
   "cell_type": "code",
   "execution_count": null,
   "id": "bc09f4c0-85e4-4380-9283-0b9e43481a55",
   "metadata": {},
   "outputs": [],
   "source": []
  },
  {
   "cell_type": "code",
   "execution_count": null,
   "id": "5e9eb23b-e839-4c50-b199-352970f4a4ff",
   "metadata": {},
   "outputs": [],
   "source": []
  },
  {
   "cell_type": "code",
   "execution_count": null,
   "id": "e28935cc-5533-40d3-8e4c-ef446344448e",
   "metadata": {},
   "outputs": [],
   "source": []
  },
  {
   "cell_type": "markdown",
   "id": "36b2365b-7afe-4d7c-befb-95591b497873",
   "metadata": {},
   "source": [
    "### problem: unbalanced dataset, \n",
    "### solution: Random Oversampling/SMOTE"
   ]
  },
  {
   "cell_type": "code",
   "execution_count": null,
   "id": "aef1ecde-e5c7-4484-97b0-c5b657ef85c8",
   "metadata": {},
   "outputs": [],
   "source": [
    "from sklearn.model_selection import cross_val_score\n",
    "from sklearn.model_selection import RepeatedStratifiedKFold\n",
    "from imblearn.pipeline import Pipeline\n",
    "from imblearn.over_sampling import RandomOverSampler\n",
    "from imblearn.under_sampling import RandomUnderSampler"
   ]
  },
  {
   "cell_type": "code",
   "execution_count": null,
   "id": "6e342811-a044-42fd-ba3b-bb3954bf8851",
   "metadata": {},
   "outputs": [],
   "source": [
    "#Random Oversampling/Undersampling\n",
    "\n",
    "# define pipeline\n",
    "over = RandomOverSampler(sampling_strategy=0.2)\n",
    "under = RandomUnderSampler(sampling_strategy=0.4)\n",
    "steps = [('o', over), ('u', under), ('m', SVC(kernel=\"linear\", C=1))]\n",
    "pipeline = Pipeline(steps=steps)\n",
    "\n",
    "# evaluate pipeline\n",
    "cv = RepeatedStratifiedKFold(n_splits=10, n_repeats=3, random_state=1)\n",
    "scores = cross_val_score(pipeline, univariate_pca_rfe_X_train, y_train, scoring='f1_micro', cv=cv, n_jobs=-1)\n",
    "\n",
    "print(f\"F1 scores: \\n{scores}\\n\")\n",
    "print(f\"F1 mean score: \\n{np.mean(scores)}\\n\")"
   ]
  },
  {
   "cell_type": "markdown",
   "id": "ab0beb37-8c09-44f6-a926-d14b62df9215",
   "metadata": {},
   "source": [
    "# Basic Models"
   ]
  },
  {
   "cell_type": "code",
   "execution_count": null,
   "id": "c9cf54b5-ac3c-4947-96ec-01f202715d84",
   "metadata": {},
   "outputs": [],
   "source": [
    "from sklearn.ensemble import RandomForestClassifier\n",
    "from sklearn.neighbors import KNeighborsClassifier\n",
    "from sklearn.pipeline import Pipeline"
   ]
  },
  {
   "cell_type": "code",
   "execution_count": null,
   "id": "b8d40338-001b-49f8-8880-79e158967467",
   "metadata": {},
   "outputs": [],
   "source": [
    "pipe = Pipeline([(\"classifier\", RandomForestClassifier())])"
   ]
  },
  {
   "cell_type": "code",
   "execution_count": null,
   "id": "81bc05a1-d508-4e2d-b620-905395ae9f1f",
   "metadata": {},
   "outputs": [],
   "source": [
    "search_space = [\n",
    "    {\"classifier\": [logistic],\n",
    "    \"classifier__penalty\": [\"l1\", \"l2\"],\n",
    "    \"classifier__C\": np.logspace(0, 4, 10)},\n",
    "    {\"classifier\": [RandomForestClassifier()],\n",
    "    \"classifier__n_estimators\": [10, 50, 100],\n",
    "    \"classifier__max_features\": [1, 2, 3]},\n",
    "    {\"classifier\": [KNeighborsClassifier()],\n",
    "    \"classifier__n_neighbors\": range(1, 10, 1),\n",
    "    \"classifier__leaf_size\": [30, 60, 90]}\n",
    "]"
   ]
  },
  {
   "cell_type": "code",
   "execution_count": null,
   "id": "a7c87c27-f5a6-4244-8ac9-1067fbe5f45d",
   "metadata": {},
   "outputs": [],
   "source": [
    "gridsearch = GridSearchCV(pipe, search_space, cv=5, verbose=1, n_jobs=-1)"
   ]
  },
  {
   "cell_type": "code",
   "execution_count": null,
   "id": "e3de52e3-1108-4ce7-bffd-09f2239cf11a",
   "metadata": {},
   "outputs": [],
   "source": [
    "best_model = gridsearch.fit(features, target)"
   ]
  },
  {
   "cell_type": "code",
   "execution_count": null,
   "id": "ec47d6fe-83b1-40aa-854d-dfbe420ef2b7",
   "metadata": {},
   "outputs": [],
   "source": [
    "print(best_model.best_estimator_.get_params()[\"classifier\"])"
   ]
  },
  {
   "cell_type": "code",
   "execution_count": null,
   "id": "2eb70a59-9aba-4685-843e-370b61ba84df",
   "metadata": {},
   "outputs": [],
   "source": []
  },
  {
   "cell_type": "code",
   "execution_count": null,
   "id": "aa2940ac-a69a-4116-a363-7f064e90796f",
   "metadata": {},
   "outputs": [],
   "source": []
  },
  {
   "cell_type": "code",
   "execution_count": null,
   "id": "e86f2965-1c65-4141-a6da-b032402df5da",
   "metadata": {},
   "outputs": [],
   "source": []
  },
  {
   "cell_type": "code",
   "execution_count": null,
   "id": "f9c3ab76-14be-4859-b458-c998f140d0b5",
   "metadata": {},
   "outputs": [],
   "source": [
    "from sklearn.model_selection import train_test_split\n",
    "from hpsklearn import HyperoptEstimator\n",
    "from hpsklearn import any_classifier\n",
    "from hpsklearn import any_preprocessing\n",
    "from hyperopt import tpe"
   ]
  },
  {
   "cell_type": "code",
   "execution_count": null,
   "id": "ba776839-de8f-4926-9a0b-ef2ed9910872",
   "metadata": {},
   "outputs": [],
   "source": [
    "X_train, X_test, y_train, y_test = train_test_split(features, target, test_size=0.33, random_state=42)"
   ]
  },
  {
   "cell_type": "code",
   "execution_count": null,
   "id": "c28e444a-02c9-4152-ab3d-8a08c41b9a66",
   "metadata": {},
   "outputs": [],
   "source": [
    "model = HyperoptEstimator(\n",
    "    classifier=any_classifier(\"cla\"),\n",
    "    preprocessing=any_preprocessing(\"pre\"),\n",
    "    algo=tpe.suggest,\n",
    "    max_evals=20,\n",
    "    trial_timeout=30,\n",
    "    n_jobs=-1\n",
    ")"
   ]
  },
  {
   "cell_type": "code",
   "execution_count": null,
   "id": "09e31b5c-d190-4823-8fa4-ad7172406e6b",
   "metadata": {},
   "outputs": [],
   "source": [
    "model.fit(X_train, y_train)"
   ]
  },
  {
   "cell_type": "code",
   "execution_count": null,
   "id": "dee4e4be-b4ba-4540-b493-d8fa555dcd8a",
   "metadata": {},
   "outputs": [],
   "source": [
    "acc = model.score(X_test, y_test)\n",
    "print(\"Accuracy: %.3f\" % acc)"
   ]
  },
  {
   "cell_type": "code",
   "execution_count": null,
   "id": "deba2643-cdc0-4686-b971-cd75238600c9",
   "metadata": {},
   "outputs": [],
   "source": [
    "print(model.best_model())"
   ]
  }
 ],
 "metadata": {
  "kernelspec": {
   "display_name": "Python [conda env:cdv_data_prep] *",
   "language": "python",
   "name": "conda-env-cdv_data_prep-py"
  },
  "language_info": {
   "codemirror_mode": {
    "name": "ipython",
    "version": 3
   },
   "file_extension": ".py",
   "mimetype": "text/x-python",
   "name": "python",
   "nbconvert_exporter": "python",
   "pygments_lexer": "ipython3",
   "version": "3.8.5"
  }
 },
 "nbformat": 4,
 "nbformat_minor": 5
}
